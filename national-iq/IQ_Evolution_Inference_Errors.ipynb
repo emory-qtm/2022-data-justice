{
 "cells": [
  {
   "cell_type": "markdown",
   "metadata": {},
   "source": [
    "<h1> Dismantling Statistical Proofs of Evolutionary Theories of Intelligence </h1>\n",
    "\n",
    "This notebook was written by Michal Arbilly, Daniel Weissman, and Mack Hutsell, based on a 2010 paper by Jelte Wicherts, Denny Borsboom, and Conor Dolan titled [Why national IQs do not support evolutionary theories of intelligence](https://www.sciencedirect.com/science/article/abs/pii/S0191886909002475).\n",
    "\n",
    "<h3> Table of Contents </h3>\n",
    "\n",
    "1. [Learning Goals](#Learning_goals)\n",
    "2. [Background](#Background)\n",
    "    1. [Introduction to Intelligence Quotients (IQs)](#IQ_bg)\n",
    "    2. [Summaries of Papers we Will Debunk](#Recent_IQ_Studies)\n",
    "        1. [Issues with the Methodologies of Targeted Papers (Optional)](#paper_methodology_errors)\n",
    "    3. [Correlation and Confounding](#c_and_c)\n",
    "        1. [Basic Correlation](#corr_basic)\n",
    "        2. [Basic Confounding](#conf_basic)\n",
    "        3. [Correlation and Confounding Conclusion](#corr_and_conf_conc)        \n",
    "        \n",
    "3. [Analysis](#Analysis)\n",
    "    1. [Datasets](#datasets)\n",
    "    2. [Principal Conponent Analysis](#pca)\n",
    "4. [Evaluation](#Evaluation)\n",
    "5. [Conclusion](#Conclusion)\n",
    "\n",
    "\n",
    "6. [Sources](#Sources)\n",
    "\n",
    "<h2> Learning Goals <a name=\"Learning_goals\"></a></h2>\n",
    "\n",
    "1. Gain a basic understanding of statistical methods and pitfalls\n",
    "\n",
    "    - What is correlation?\n",
    "    \n",
    "    - What is confounding? \n",
    "    \n",
    "    - What is a principal component analysis?\n",
    "\n",
    "    - How can bias enter statistics-based research?\n",
    "    \n",
    "\n",
    "<h2> Background <a name=\"Background\"></a></h2>\n",
    "\n",
    "<h3> 1. The Study of IQ <a name=\"IQ_bg\"></a></h3>\n",
    "\n",
    "An Intelligence Quotient, or IQ, is a score resulting from a test designed to assess human intelligence. Over the past 100 years, it has been one of the most controversial and widely studied psychometrics. IQ scores have been used as a basis for eugenics programs, both in the US and Nazi Germany, and they are still used by the US army to determine who to accept/deny. The SAT, even, was originally an IQ test for high schoolers that was developed in part by a eugenicist, Carl Brigham, who believed it would prove white racial superiority. One of the big questions is what IQ tests actually assess.\n",
    "\n",
    "<h3> 2. Controversial Theories of IQ Differences and Human Evolution <a name=\"Recent_IQ_Studies\"></a></h3>\n",
    "\n",
    "Our notebook today is based on a paper that was written specifically to **debunk** several previous papers, Kanazawa 2008, Templer 2008, and Templer and Arikawa 2006.\n",
    "\n",
    "These papers, in summary, claimed that they \"found empirical support for evolutionary theories of race differences in intelligence by **correlating estimates of national IQ with reproductive strategies, temperature, and geographic distance from Africa**.\"\n",
    "\n",
    "Each of these three correlations they claimed to have found were based on corresponding **evolutionary theories of intelligence**:\n",
    "\n",
    "1. \"Higher general intelligence evolved to meet the challenge of surviving in colder and more demanding climates\" (Lynn, 1991, 2006)\n",
    "\n",
    "2. \"General intelligence evolved in response to new environmental challenges that didn't exist in the EEA\" (EEA, which stands for Environment of Evolutionary Adaptedness, and in this context, refers to Sub-Saharan Africa in the late Pleistocene, the time when and place where our species evolved) (Kanazawa, 2004)\n",
    "\n",
    "3. \"The three major human races (i.e., Whites, Blacks, and Asians) differ in levels of intelligence because of different evolved reproductive strategies.\" (Rushton, 2000)\n",
    "\n",
    "Kanazawa (2008) focused on theories 1 and 2; Templer (2008) focused on theory 3; Templer and Arikawa (2006) focused on theory 1.\n",
    "\n",
    "Wicherts, Borsboom, and Dolan, found errors in the **methodologies** of each of the above papers. While these are not essential to what we will be learning in the notebook today, they are summarized below and are worth reading to understand some of the biases shown by authors of the criticized papers.\n",
    "\n",
    "> <h4> Some Basic Issues with the Methodologies of the papers under scrutiny <a name=\"paper_methodology_errors\"></a> </h4>\n",
    ">\n",
    "> The following noted issues constitute a **Part 1** of the paper this notebook was based on.\n",
    "> \n",
    "> 1. Authors of the criticized papers ignore the controversy over whether IQ reflects intelligence, and assume that national IQ scores reflect general intelligence.\n",
    ">\n",
    "> 2. They assume race is a biologically meaningful construct, and that nations may differ in terms of racially dominant groups. \n",
    "> \n",
    "> 3. They base their hypotheses on the \"Out of Africa\" hypothesis. Their evolutionary hypotheses are based on events that took place 60-100 thousand years ago, but the data they use to test their hypotheses were gathered in the 20th century. Even during the 20th century, average IQ, for example, has changed within many populations. \n",
    "> \n",
    "> 4. Climate, which they claim plays a role in selection for intelligence, has changed over that period, so using current climate data is uninformative.\n",
    "> \n",
    "> 5. The calculation of distance from sub-Saharan Africa is flawed, both geometrically, and practically, when considering people have traveled the distance on foot; plus, distance is sometimes meaningless when it comes to the similarities and differences of different habitats.\n",
    "> \n",
    "> 6. Though these papers suggest populations are historically distinct, instead of using countries with mostly indigenous inhabitants, they used countries that are mostly made of the descendants of relatively recent migrants (like the US and Australia).\n",
    "\n",
    "\n",
    "There are many **scientific questions** related to this topic that we will not be addressing in this notebook; some of them we did already mention in class, and they are good to keep in mind as we proceed. As Wicherts et al. note: \"our criticisms concern the evidential force of data on national IQs with respect to evolutionary theories of intelligence, rather than the truth of these evolutionary theories per se\".\n",
    "\n",
    "In this notebook, we will consider **errors in the statistical analysis** performed by each of the abovementioned papers, as discussed by Wicherts et al. They show that in fact, national IQ's are **strongly confounded** with the current developmental status of countries, as measured by variables like health, family size, education, and urbanization. \n",
    "\n",
    "The idea to consider these variables comes from an effect described in 1987 by James Flynn: he found that countries around the world experienced a significant leap in IQ scores within one generation. This change was linked to the progress countries have seen during the 20th century in different aspects of health and education. Throughout this unit we discussed evidence of such environmental effects on performance in IQ tests, so in terms of causality, this connection makes a lot of sense. "
   ]
  },
  {
   "cell_type": "markdown",
   "metadata": {},
   "source": [
    "**Before** we move on to understanding why the papers' statistical analyses were flawed, let's briefly cover **correlation and confounding**. Both will be important later on.\n",
    "\n",
    "<h3> 3. Correlation and Confounding <a name=\"c_and_c\"></a></h3>\n",
    "\n",
    "Definitions:\n",
    "\n",
    "**Correlation:** a measure of how two (or more) variables are related to one another. While we sometimes refer to one variable as dependent and the other as independent or explanatory, this dependence is only in the statistical sense. Correlation only tells us to what extent the variables change together, and does not imply causation. \n",
    "\n",
    "**Confounder:** an additional variable that influences the two variables under consideration, causing a spurious association. "
   ]
  },
  {
   "cell_type": "markdown",
   "metadata": {},
   "source": [
    "<h4> Correlation <a name=\"corr_basic\"></a></h4>\n",
    "\n",
    "**Note:** if you are familiar with Pearson's Correlation Coefficient and its calculation, feel free to move on to [Confounding](#conf_basic), but note that you will be asked to use the code below for this notebook's tasks.\n",
    "\n",
    "\n",
    "A grocery store sells peanut butter, jelly, corn, and milk. The owners notice that in the last three days, their sales for each item are:\n",
    "\n",
    ">| Sales | PB     | J     | Corn | Milk\n",
    ">| :------------- | :---------- | :----------- | :----------- | :----------- |\n",
    ">|  Mon | 2 | 2 | 4 | 8 |\n",
    ">| Tues | 3 | 3 | 3 | 10 |\n",
    ">| Wed | 4 | 4 | 2 | 8 |\n",
    "\n",
    "Just from observing the chart, the sales of PB and J seem positively related: when peanut butter sales are higher, so are jelly sales.\n",
    "\n",
    "Similarly, PB and corn sales seem to be negatively related, while PB and Milk sales seem to not be related at all.\n",
    "\n",
    "***The question is***: how can we **mathematically establish** these relations, or correlations?\n",
    "\n",
    "There are different ways to mathematically establish a correlation, but a very common method is to use **Pearson's Correlation Coefficient**."
   ]
  },
  {
   "cell_type": "markdown",
   "metadata": {},
   "source": [
    "$$ r = \\frac{\\sum_i (x_i - \\bar x) (y_i - \\bar y)}{\\sqrt{\\left[\\sum_i (x_i - \\bar x)^2 \\right] \\left[\\sum_i (y_i - \\bar y)^2 \\right]}}$$"
   ]
  },
  {
   "cell_type": "markdown",
   "metadata": {},
   "source": [
    "Where:\n",
    "\n",
    "**n** is the number of data points that we have for each variable (we have 3 — one for each day)\n",
    "\n",
    "**x** is the first variable that we inspect (in our case, it will be peanut butter)\n",
    "\n",
    "**y** is the second variable that we inspect (in our case, this will be jelly, then corn, then milk)\n",
    "\n",
    "For this formula, values range from -1 to 1. \n",
    "\n",
    "r=1 means a **strong positive** correlation, while r=-1 means a **strong negative** correlation. r=0 means no correlation. Correlation coefficients can end up anywhere in-between.\n",
    "\n",
    "Let's put our data into python so that we can calculate the correlation coefficient.\n",
    "\n",
    "If you run the following block of code, it will initialize our variables as well as print out our data in its dataframe form."
   ]
  },
  {
   "cell_type": "code",
   "execution_count": null,
   "metadata": {},
   "outputs": [],
   "source": [
    "import pandas as pd\n",
    "import math\n",
    "\n",
    "# Put our data into a list of lists \n",
    "data = [['Mon', 2, 2, 4, 8], ['Tues', 3, 3, 3, 10], ['Wed', 4, 4, 2, 8]]    \n",
    "# Note that each variable is in a column, rather than row -- crucial for the correlation calculation in pandas    \n",
    "\n",
    "# Create a pandas DataFrame\n",
    "df = pd.DataFrame(data, columns = ['Day', 'PB', 'J', 'Corn', 'Milk'])\n",
    "\n",
    "df"
   ]
  },
  {
   "cell_type": "markdown",
   "metadata": {},
   "source": [
    "Now, let's calculate the correlation coefficients. This can be done quite simply using the following code line:"
   ]
  },
  {
   "cell_type": "code",
   "execution_count": null,
   "metadata": {},
   "outputs": [],
   "source": [
    "df.corr()"
   ]
  },
  {
   "cell_type": "markdown",
   "metadata": {},
   "source": [
    "Let's look at these correlation coefficients one by one, starting from PB and J:"
   ]
  },
  {
   "cell_type": "code",
   "execution_count": null,
   "metadata": {},
   "outputs": [],
   "source": [
    "df.corr()['PB']['J']"
   ]
  },
  {
   "cell_type": "markdown",
   "metadata": {},
   "source": [
    "We've proven, from a **statistical** standpoint, that PB and J are correlated!\n",
    "\n",
    "Let's check how Corn and Milk relate to PB:"
   ]
  },
  {
   "cell_type": "code",
   "execution_count": null,
   "metadata": {},
   "outputs": [],
   "source": [
    "df.corr()['PB']['Corn']"
   ]
  },
  {
   "cell_type": "code",
   "execution_count": null,
   "metadata": {},
   "outputs": [],
   "source": [
    "df.corr()['PB']['Milk']"
   ]
  },
  {
   "cell_type": "markdown",
   "metadata": {},
   "source": [
    "These results also align with our previous intuitions.\n",
    "\n",
    "**<span style=\"color:red\">Task 1 of this notebook</span>**: insert two code cells below. \n",
    "- In the **first cell**, consider two variables: shark attacks and ice-cream sales on a California beach. Make up a list of values for the two variables for each month of the year (January through December), such that the two have a high correlation coefficient. Assume ice cream sales are higher June through August. Use the code above to produce the 'list of lists' and create a dataframe. Then make sure the two are indeed highly correlated by calculating the correlation coeeficient, again using the code above.\n",
    "- In the **second cell**, do the same, but now make sure that the correlation coefficient between the two variables is low (close to zero)."
   ]
  },
  {
   "cell_type": "markdown",
   "metadata": {},
   "source": [
    "<h4> Confounding <a name=\"conf_basic\"></a></h4>\n",
    "\n",
    "As mentioned earlier, a confounder is a variable that influences multiple other variables in such a way that they seem related, or connected.\n",
    "\n",
    "To see how a confounder can affect a statistical analysis, let's take the same data that we were just working with:\n",
    "\n",
    ">| Sales | PB     | J     | Corn | Milk\n",
    ">| :------------- | :---------- | :----------- | :----------- | :----------- |\n",
    ">|  Mon | 2 | 2 | 4 | 8 |\n",
    ">| Tues | 3 | 3 | 3 | 10 |\n",
    ">| Wed | 4 | 4 | 2 | 8 |\n",
    "\n",
    "Here, our intuition from observing the chart, as well as our statistical analysis told us that PB and J were highly correlated.\n",
    "\n",
    "**But** let's imagine that **another set of variables** exist: number of advertisements for a certain product the store had each day.\n",
    "\n",
    ">| Advertisements | PB     | J     | Corn | Milk\n",
    ">| :------------- | :---------- | :----------- | :----------- | :----------- |\n",
    ">|  Mon | 2 | 2 | 4 | 8 |\n",
    ">| Tues | 3 | 3 | 3 | 10 |\n",
    ">| Wed | 4 | 4 | 2 | 8 |\n",
    "\n",
    "Now that we are aware of this variable, maybe the reason for the correlation we found between PB and J was not that if one was purchased, so was the other. Maybe it was because they had the same number of advertisements in the store each day?\n",
    "\n",
    "**<span style=\"color:red\">Task 2 of this notebook</span>**: Add a code cell below. Take the list of correlated values for ice cream sales and shark attacks, and add values of a third variable: avergae temperature. Produce a 'list of lists' for the three variables, and create a data frame. Then make sure the three are indeed highly correlated by calculating the correlation coeeficient. In an additional Markdown cell, suggest a possible causal relationship between the three variables.  \n",
    "\n",
    "Confounders can be difficult to identify. While this example is contrived, it demonstrates something important: sometimes a dataset doesn't tell the whole story. **Correlation can be indicative of causation, but you cannot infer causation before you conduct a carefully designed and controlled experiment**. "
   ]
  },
  {
   "cell_type": "markdown",
   "metadata": {},
   "source": [
    "<h4> Correlation and Confounding: Conclusion <a name=\"corr_and_conf_conc\"></a></h4>\n",
    "\n",
    "Because of confounders, data can easily be manipulated to show **arbitrary and ridiculous** correlations. For example:"
   ]
  },
  {
   "cell_type": "markdown",
   "metadata": {},
   "source": [
    "<img src=\"bad_correlation.jpeg\">\n",
    "\n",
    "Source: https://www.tylervigen.com/spurious-correlations"
   ]
  },
  {
   "cell_type": "markdown",
   "metadata": {},
   "source": [
    "While this correlation is clearly caused by multiple confounders, the more dangerous correlations are those that **seem** like they could be true, or even worse, those that we **want** to be true to spport our hypothesis.\n",
    "\n",
    "This is a common way for a researcher's bias to impact their research, sometimes in very subtle ways."
   ]
  },
  {
   "cell_type": "markdown",
   "metadata": {},
   "source": [
    "<h2> Analysis <a name=\"Analysis\"></a></h2>\n",
    "\n",
    "Now that we have a basic understanding of correlation and confounding, let's take a look at how Wicherts et al. refute the claims made by Kanazawa, Templer, and Arikawa based on their statistical analysis.\n",
    "\n",
    "Recall Wicherts et al.'s finding: \"national IQs are **strongly confounded** with the current developmental status of countries\". Kanazawa, Templer, and Arikawa each check correlations to a number of variables they thought are related to IQ, but they leave out variables related to the Flynn effect. Wicherts et al. include 18 variables in their analysis, listed and explained in the methods section of the paper (p. 93).\n",
    "\n",
    "<h3> 1. Data Source and Loading <a name=\"datasets\"></a></h3>\n",
    "\n",
    "IQ estimates: Lynn and Vanhanen (2006) estimates of National IQ (excluding Equatorial Guinea and Taiwan)\n",
    "\n",
    "Developmental data: \"from websites of the United Nations (UN), and World Health Organization (WHO)\" as well as data from UNICEF, UNESCO, International Telecommunication Union, World Development Index, and the Paleoclimate Modelling Intercomparison Project.\n",
    "\n",
    "To save time, we will begin with pre-calculated correlations between variables, as shown in Table 1 in Wicherts et al.'s paper.\n",
    "\n",
    "Let's load those in Python, and create a matrix we can use for principal component analysis."
   ]
  },
  {
   "cell_type": "code",
   "execution_count": null,
   "metadata": {},
   "outputs": [],
   "source": [
    "import numpy as np"
   ]
  },
  {
   "cell_type": "code",
   "execution_count": null,
   "metadata": {},
   "outputs": [],
   "source": [
    "var_name_list = [\"IQ\"] # a list to store the names of the different variables\n",
    "nat_iq_corr_list = [] # a temporary list of lists to store the correlations listed in the data table\n",
    "with open(\"correlations_data.txt\", \"r\") as f:\n",
    "    for i, line in enumerate(f):\n",
    "        if i % 2 == 0: # the line is a name\n",
    "            var_name_list.append(line.rstrip()) # add it to the list of names\n",
    "        if i % 2 == 1: # the line lists correlations\n",
    "            nat_iq_corr_list.append([float(x) for x in line.split()]) # add it to the list of correlations\n",
    "\n",
    "# Now make the actual correlation matrix among the variables\n",
    "# start with ones on the diagonal:\n",
    "nat_iq_corr_mat = np.identity(len(nat_iq_corr_list) + 1) # +1 because IQ didn't have its own row in the data table\n",
    "# now fill in the off-diagonal entries using the values from the data table\n",
    "for i in range(len(nat_iq_corr_mat)):\n",
    "    for j in range(i):\n",
    "        nat_iq_corr_mat[i, j] = nat_iq_corr_list[i-1][j+1] \n",
    "        # above, we used i-1 because the first row is actually second variable, after IQ which didn't have a row\n",
    "        # the j+1 is because we're skipping the first column, which was IQ data excluding sub-Saharan Africa\n",
    "        nat_iq_corr_mat[j, i] = nat_iq_corr_mat[i, j] # the matrix is symmetric: corr(X,Y) = corr(Y, X)"
   ]
  },
  {
   "cell_type": "markdown",
   "metadata": {},
   "source": [
    "<h3> 2. Principal Component Analysis <a name=\"pca\"></a></h3>\n",
    "\n",
    "When we have a number of variables and we would like to understand the relationship between them, we can use principal component analysis (PCA). This analysis can tell us if there are a number of variables that change together. You can use the raw data of each variable in this analysis (python has a PCA function that can run the analysis on the raw data), and you can also calculate the covariance for each pair of variables and run the analysis on the covariance table; alternatively, once you have the correlation matrix, you can diagonalize it to get the principal components and their values. "
   ]
  },
  {
   "cell_type": "code",
   "execution_count": null,
   "metadata": {},
   "outputs": [],
   "source": [
    "import scipy.linalg"
   ]
  },
  {
   "cell_type": "code",
   "execution_count": null,
   "metadata": {},
   "outputs": [],
   "source": [
    "eigenvalues, PCs = scipy.linalg.eig(nat_iq_corr_mat)"
   ]
  },
  {
   "cell_type": "markdown",
   "metadata": {},
   "source": [
    "<h2> Evaluation <a name=\"Evaluation\"></a> </h2>"
   ]
  },
  {
   "cell_type": "code",
   "execution_count": null,
   "metadata": {},
   "outputs": [],
   "source": [
    "# For Scree Plot (fig 1) and Table 2\n",
    "import matplotlib.pyplot as plt\n",
    "\n",
    "plt.plot(range(1, 19), np.flip(np.sort(np.abs(eigenvalues))), 'o-', linewidth=2, color='blue')\n",
    "plt.title('Scree Plot')\n",
    "plt.xlabel('Principal Component')\n",
    "plt.ylabel('Eigenvalue')\n",
    "plt.xticks(range(1,19))\n",
    "\n",
    "plt.show()"
   ]
  },
  {
   "cell_type": "markdown",
   "metadata": {},
   "source": [
    "The scree plot shows us that there is one component of the data that explains most of the variance: in other words, there are many variables that change together. According to Wicherts et al., these are the environmental variables and IQ. The fact that they change together does not necessarilt suggest causality. But it does tell us that the correlations found in the criticized papers are nothing special: IQ changes with fertility rate, for example, but also with education and health variables. We don't know if one is affecting the others and if so which one is the independent variable, or if they are all affected by another variable not included in the analysis, or they just happen to change in the same way."
   ]
  },
  {
   "cell_type": "markdown",
   "metadata": {},
   "source": [
    "<h2> Conclusion <a name=\"Conclusion\"></a> </h2>"
   ]
  },
  {
   "cell_type": "markdown",
   "metadata": {},
   "source": [
    "We saw how correlations, as useful as they may be to in detecting raltionships, do not necessarily tell us anything about causation. In the case of theories of the evolution of intelligence, and generally when discussing differences in IQ test performance or educational attainment, biases have come into play in researchers interpretation of data analysis.   "
   ]
  },
  {
   "cell_type": "markdown",
   "metadata": {},
   "source": [
    "<h2> Sources: <a name=\"Sources\"></a></h2>\n",
    "\n",
    "https://en.wikipedia.org/wiki/SAT#History (Introduction Material)\n",
    "\n",
    "https://en.wikipedia.org/wiki/Intelligence_quotient#Precursors_to_IQ_testing (Introduction Material)\n",
    "\n",
    "Read more about PCA here: https://en.wikipedia.org/wiki/Principal_component_analysis\n",
    "\n",
    "Read more about scree plots here: https://en.wikipedia.org/wiki/Scree_plot\n",
    "\n",
    "\n",
    "<h3> Papers we aim to debunk </h3>\n",
    "\n",
    "https://personal.lse.ac.uk/kanazawa/pdfs/I2008.pdf Kanazawa 2008 concerning Lynn 2006, Kanazawa 2004\n",
    "\n",
    "https://citeseerx.ist.psu.edu/viewdoc/download?doi=10.1.1.174.945&rep=rep1&type=pdf Templer and Arikawa 2006 concerning Lynn 2006\n",
    "\n",
    "https://sci-hubtw.hkvisa.net/10.1016/j.paid.2008.05.010 Templer 2008 concerning Rush 2000"
   ]
  }
 ],
 "metadata": {
  "kernelspec": {
   "display_name": "Python 3 (ipykernel)",
   "language": "python",
   "name": "python3"
  },
  "language_info": {
   "codemirror_mode": {
    "name": "ipython",
    "version": 3
   },
   "file_extension": ".py",
   "mimetype": "text/x-python",
   "name": "python",
   "nbconvert_exporter": "python",
   "pygments_lexer": "ipython3",
   "version": "3.9.7"
  }
 },
 "nbformat": 4,
 "nbformat_minor": 4
}
