{
 "cells": [
  {
   "cell_type": "markdown",
   "metadata": {},
   "source": [
    "# Intro to Jupyter Notebook (and some other tips and tricks)\n",
    "\n",
    "*Based off tutorials by [Alison Parish](https://github.com/aparrish/dmep-python-intro) and [Jinho Choi](https://github.com/emory-courses/data-science)*\n",
    "\n",
    "Jupyter Notebook is a browser-based platform for programming in Python, which allows you to intersperse executable code with chunks of text like this. It lets you (mostly) avoid the command line, and results in a file that is easy to read and easy to share with others. \n",
    "\n",
    "We'll be using Jupyter Notebooks for in-class exercises and for many of the homework assignments. "
   ]
  },
  {
   "cell_type": "markdown",
   "metadata": {},
   "source": [
    "## Let's get started!\n",
    "\n",
    "In order to manage our various Jupyter Notebooks (which I'll now refer to simply as notebooks), we'll be using this instance of [JupyterHub](http://ec2-35-153-110-194.compute-1.amazonaws.com/), which is hosted on AWS (long story).\n",
    "\n",
    "JupyterHub makes it easy for me to share notebooks with you, and to pre-install any required libraries. (This is a big reason why we're using JupyterHub in this class). One caveat about working with notebooks on JupyterHub is that they are shared in a read-only format. \n",
    "\n",
    "To get started, the very first step is to choose `File > Save as...` from the menu at the top of the page, and then type in a name/path to your version of the notebook. (You'll need to delete the pre-populated path before you do, however). \n",
    "\n",
    "**In general, I recommend naming the file something with your name in it so as to tell it apart from others.** \n",
    "\n",
    "If you ever want to rename your file, you can click the filename at the top of the page to pull up the filename dialogue box. \n",
    "\n",
    "Also, if you forget to save a copy of the file before you start editing it, you can save it at the end. But I like to do it first as a best practice. \n",
    "\n",
    "NB: If you are an advanced Python user and you'd prefer to use git/GitHub to keep track of your notebooks, I will also maintain a repsitory of class notebooks [here](https://github.com/laurenfklein/QTM340-Fall21). "
   ]
  },
  {
   "cell_type": "markdown",
   "metadata": {},
   "source": [
    "## And off we go! \n",
    "\n",
    "A Jupyter Notebook consists of a number of \"cells,\" stacked on the page from top to bottom. Cells can have text or code in them. You can change a cell's type using the \"Cell\" menu at the top of the page; go to `Cell > Cell Type` and select either `Code` for Python code or `Markdown` for text. (You can also change this for the current cell using the drop-down menu in the toolbar.)"
   ]
  },
  {
   "cell_type": "markdown",
   "metadata": {},
   "source": [
    "## Your first cell\n",
    "\n",
    "**Let's make a text cell!**\n",
    "\n",
    "To make a new text cell below this one, do this:\n",
    "* Click on this cell to select it.\n",
    "* Choose `Insert > Insert Cell Below` from the menu at the top of the page. \n",
    "* Change its type to `Markdown`\n",
    "* Type some stuff and press `Ctrl-Enter` (or `Ctrl-Return` on some keyboards) \n",
    "\n",
    "Jupyter Notebook will \"render\" the text and display it on the page in rendered format. You can hit `Enter` or click in the cell to edit its contents again. \n",
    "\n",
    "You can format the text of a cell using a set of conventions called Markdown. Markdown is a simple language for marking up text with basic text formatting information (such as bold, italics, hyperlinks, tables, etc.). \n",
    "\n",
    "[Here is a Markdown tutorial](http://markdowntutorial.com/), although I prefer to just consult a cheat sheet like [this one](https://www.markdownguide.org/cheat-sheet/)."
   ]
  },
  {
   "cell_type": "markdown",
   "metadata": {},
   "source": [
    "## Exercise: Make a text cell with some formatting using Markdown\n",
    "\n",
    "Here is your first exericse: Insert a new cell just below this one, and use the [Markdown cheat sheet](https://www.markdownguide.org/cheat-sheet/) to make some text **bold**, some text *italics*, and some:\n",
    "\n",
    "- text\n",
    "- in\n",
    "- a \n",
    "- list\n",
    "\n",
    "---"
   ]
  },
  {
   "cell_type": "markdown",
   "metadata": {},
   "source": [
    "## Two helpful shortcuts \n",
    "\n",
    "Instead of pressing `Ctl-Enter`, you can press `Alt-Enter` (or `Option-Enter` on a Mac) to render the current cell and create a new cell just below. New cells will by default be `Code` cells. \n",
    "\n",
    "Another shortcut: instead of pressing `Ctl-Enter`, you can press `Shift-Enter` to render the current cell and *move* to the one below. \n",
    "\n",
    "Let's try pressing `Shift-Enter` and then `Shift-Enter` again so that we can render the cell below and learn about code cells. "
   ]
  },
  {
   "cell_type": "markdown",
   "metadata": {},
   "source": [
    "## Code cells\n",
    "\n",
    "Code cells-- which are actually the default type of cell in Jupyter-- use the same set of commands (`Ctl-Enter`, `Alt-Enter`, `Shift-Enter`, etc) to run chunks of Python code rather than just render text.\n",
    "\n",
    "Let's not beat around the bush! Press `Shift-Enter` again to run your first chunk of code."
   ]
  },
  {
   "cell_type": "code",
   "execution_count": null,
   "metadata": {},
   "outputs": [],
   "source": [
    "print(\"This is a code cell.\")\n",
    "print(\"\")\n",
    "print(\"Any Python code you type in this cell will be run when you press the 'Run' button\")\n",
    "print(\"up there, or when you press any of the keyboard shortcuts you just learned.\")\n",
    "print(\"\")\n",
    "print(\"If the code evaluates to something, or if it produces output, that output will be\")\n",
    "print(\"shown beneath the cell after you run it.\")\n",
    "print(\"\")\n",
    "print(\"Let's keep on going. Press Shift-Enter to see what this cell produces and keep going\")\n",
    "print(\"with our exercise.\")"
   ]
  },
  {
   "cell_type": "markdown",
   "metadata": {},
   "source": [
    "**Sidenote: You just learned how the print function works in Python 3!**\n",
    "\n",
    "And, therefore, an obligatory meme (via [@cszhu on Twitter](https://twitter.com/cszhu/status/1163476712044150790)):\n",
    "![](https://pbs.twimg.com/media/ECV_5d9U4AA3EqC?format=jpg&name=large)"
   ]
  },
  {
   "cell_type": "markdown",
   "metadata": {},
   "source": [
    "## A bit more on printing things\n",
    "\n",
    "[Here](https://docs.python.org/3.3/whatsnew/3.0.html) are a few more examples of how to print things. \n",
    "\n",
    "[Here](https://realpython.com/python-print/) is more about `print()` than you likely ever wanted to know."
   ]
  },
  {
   "cell_type": "markdown",
   "metadata": {},
   "source": [
    "## Errors \n",
    "\n",
    "If your code generates an error, it will be displayed in addition to any output already produced. \n",
    "\n",
    "**IMPORTANT: These error messages are *incredibly helpful* when debugging. If you get an error, read it and see if it helps point you to where the problem is in your code.**\n",
    "\n",
    "So let's make ourselves an error. We'll commit the cardinal sin of dividing by zero.\n",
    "\n",
    "Run the cell below."
   ]
  },
  {
   "cell_type": "code",
   "execution_count": null,
   "metadata": {},
   "outputs": [],
   "source": [
    "print(\"Here is some printing.\")\n",
    "print(\"And now here is an error:\")\n",
    "\n",
    "1 / 0"
   ]
  },
  {
   "cell_type": "markdown",
   "metadata": {},
   "source": [
    "## Variables\n",
    "\n",
    "The major difference between Python and R-- at least in terms of getting started-- is that in Python, you can only use `=` to assign variables. \n",
    "\n",
    "Let's assign some variables:"
   ]
  },
  {
   "cell_type": "code",
   "execution_count": 1,
   "metadata": {},
   "outputs": [],
   "source": [
    "x = 0\n",
    "y = .5\n",
    "z = True # note another difference b/t R and Python: Boolean (T/F) values are not all caps "
   ]
  },
  {
   "cell_type": "markdown",
   "metadata": {},
   "source": [
    "## Exercise: Write some code to print out the variables we've just assigned"
   ]
  },
  {
   "cell_type": "code",
   "execution_count": null,
   "metadata": {},
   "outputs": [],
   "source": [
    "# your code here"
   ]
  },
  {
   "cell_type": "markdown",
   "metadata": {},
   "source": [
    "## Another neat thing about notebooks:\n",
    "\n",
    "Any variables you define or modules you import in one code cell will be available in subsequent code cells. \n",
    "\n",
    "So for instance, if you run the cell below:"
   ]
  },
  {
   "cell_type": "code",
   "execution_count": null,
   "metadata": {},
   "outputs": [],
   "source": [
    "import random  # a useful module that we'll come back to later \n",
    "stuff = [\"cheddar\", \"daguerrotype\", \"elephant\", \"flea market\"]\n",
    "\n",
    "print(random.choice(stuff)) # choice is a function that-- you guessed it-- makes a random choice"
   ]
  },
  {
   "cell_type": "markdown",
   "metadata": {},
   "source": [
    "... then in subsequent cells you can do this:"
   ]
  },
  {
   "cell_type": "code",
   "execution_count": null,
   "metadata": {},
   "outputs": [],
   "source": [
    "print(random.choice(stuff)) # choice is a function that-- you guessed it-- makes a random choice"
   ]
  },
  {
   "cell_type": "markdown",
   "metadata": {},
   "source": [
    "## Exercise: Write some code and then run it\n",
    "\n",
    "Using the previous two code cells as a guide...\n",
    "- Reassign the \"stuff\" variable with four different words\n",
    "- Use the \"choice\" function, as above, to randomly print one of those four words "
   ]
  },
  {
   "cell_type": "code",
   "execution_count": 2,
   "metadata": {},
   "outputs": [],
   "source": [
    "# your code here"
   ]
  },
  {
   "cell_type": "markdown",
   "metadata": {},
   "source": [
    "**FYI:** \"stuff\" is a list, which is a type of value in Python which represents a sequence of values. It's a very common and versatile data structure and is often used to represent tabular data (among other information).\n",
    "\n",
    "More on lists in the next class. But to conclude for the day:"
   ]
  },
  {
   "cell_type": "markdown",
   "metadata": {},
   "source": [
    "## Keyboard shortcuts\n",
    "\n",
    "As mentioned above, `Ctrl-Enter` runs the current cell; `Alt-Enter` runs the current cell and then creates a new cell. `Enter` will start editing whichever cell is currently selected. To quit editing a cell, hit `Esc`. If the cursor isn't currently active in any cell (i.e., after you've hit `Esc`), a number of other keyboard shortcuts are available to you:\n",
    "\n",
    "* `m` converts the selected cell to a Markdown cell\n",
    "* `b` inserts a new cell below the selected one\n",
    "* `x` \"cuts\" the selected cell; `v` pastes a previously cut cell below the selected cell\n",
    "* `h` brings up a help screen with many more shortcuts."
   ]
  },
  {
   "cell_type": "markdown",
   "metadata": {},
   "source": [
    "## Saving / sharing your work\n",
    "\n",
    "Hit `Cmd-S` at any time to save your notebook. Saved notebooks will be available on JupyterHub whenever you log in again, from wherever you saved them. \n",
    "\n",
    "You can also \"download\" your notebook in various formats via `File > Download as`. You can download your notebook as a static HTML file (for, e.g., uploading to a web site), or as a `.ipynb` file, which you can share with other people who use Jupyter Notebook-- such as me when you need to submit a homework, which you will be doing a fair amount this semester. "
   ]
  },
  {
   "cell_type": "markdown",
   "metadata": {},
   "source": [
    "## Viewing notebooks outside of JupyterHub / Jupyter Notebooks\n",
    "\n",
    "You may have already noticed that just double-clicking on an `.ipynb` file doesn't open it. The technical explanation for this is that JupyterHub and Jupyter Notebook are both run as servers (JupyterHub on the internet and Notebook as a local server on your computer), and every time you do something to / in a notebook file, it invovles a call to that server to figure out what to actually do. \n",
    "\n",
    "Sometimes, however, you just want to easily view or share an `.ipynb` file without a server. In many (but not all) cases, `.ipynb` files hosted on [GitHub](github.com) will render very nicely. To wit, click [here](https://github.com/laurenfklein/QTM340-Fall21/blob/main/notebooks/class3-jupyter-intro.ipynb) to see how this notebook holds up. But in cases where GitHub fails, or when the file is hosted elsewhere, [nbviewer](http://nbviewer.ipython.org/) is good to know about. Note that the notebook needs to already exist online for nbviewer to work. \n",
    "\n"
   ]
  },
  {
   "cell_type": "code",
   "execution_count": null,
   "metadata": {},
   "outputs": [],
   "source": []
  }
 ],
 "metadata": {
  "kernelspec": {
   "display_name": "Python 3",
   "language": "python",
   "name": "python3"
  },
  "language_info": {
   "codemirror_mode": {
    "name": "ipython",
    "version": 3
   },
   "file_extension": ".py",
   "mimetype": "text/x-python",
   "name": "python",
   "nbconvert_exporter": "python",
   "pygments_lexer": "ipython3",
   "version": "3.7.2"
  }
 },
 "nbformat": 4,
 "nbformat_minor": 1
}
