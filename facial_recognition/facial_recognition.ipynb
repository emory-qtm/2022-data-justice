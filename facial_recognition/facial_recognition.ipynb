{
 "cells": [
  {
   "cell_type": "markdown",
   "metadata": {},
   "source": [
    "<h1> Bias in Facial Recognition Models </h1>\n",
    "\n",
    "This notebook was written by Lauren Klein and Mack Hutsell based on a 2018 paper by Joy Buolamwini and Timnit Gebru titled [Gender Shades: Intersectional Accuracy Disparities in Commercial Gender Classification](http://proceedings.mlr.press/v81/buolamwini18a/buolamwini18a.pdf).\n",
    "\n",
    "<h3> Table of Contents </h3>\n",
    "\n",
    "1. [Learning Goals](#Learning_goals)\n",
    "2. [Background](#Background)\n",
    "    1. [Facial Recognition Systems Introduction](#fr_systems)\n",
    "    2. [Machine Learning Overview](#ml_overview)\n",
    "    3. [Representing Images in Computers](#repr_images)\n",
    "        1. [Representing Color Images in Computers](#color_images)\n",
    "3. [Analysis](#Analysis)\n",
    "    1. [Datasets](#datasets)\n",
    "        1. [Examining a Dataset](#examine_dataset)\n",
    "    2. [Models](#models)\n",
    "    3. [Experiments](#experiments)\n",
    "        1. [Experiment 1 - Overall Accuracy](#experiment_1)\n",
    "            1. [Confusion Matrices in relation to Accuracy, Precision, Recall, and False Positivity Rate](#apr)\n",
    "        2. [Experiment 2 - Precision and Recall Assessed by Gender](#experiment_2)\n",
    "        3. [Experiment 3 - All Data Accuracy, Precision, and Recall](#experiment_3)\n",
    "4. [Evaluation](#Evaluation)\n",
    "5. [Conclusion](#Conclusion)\n",
    "6. [Sources](#Sources)\n",
    "\n",
    "<h2> Learning Goals <a name=\"Learning_goals\"></a></h2>\n",
    "\n",
    "1. Gain an intuition for the domain of machine learning, specifically facial recognition models\n",
    "    \n",
    "    - Why do we need machine learning models? Do we need them?\n",
    "    \n",
    "    - How are they trained?\n",
    "    \n",
    "    - How are they evaluated?\n",
    "\n",
    "2. Understand the importance of dataset analysis\n",
    "    \n",
    "    - How do biases enter datasets?\n",
    "    \n",
    "    - How can bias affect machine learning models?\n",
    "\n",
    "<h2> Background <a name=\"Background\"></a></h2>\n",
    "\n",
    "<h3> 1. Facial Recognition Systems <a name=\"fr_systems\"></a></h3>\n",
    "\n",
    "Facial recognition systems are not a new technology. In fact, they gained popularity (in the U.S.) almost thirty years ago after the U.S. military created a facial recognition technology program (FERET). Outside of the military, facial recognition saw its first uses in DMV offices trying to stop people from obtaining multiple id's under different names. However, local and government law enforcement agencies quickly realized the potential of its applications.\n",
    "\n",
    "Today, nearly every state's police department uses facial recognition systems, and in [some cases](https://www.documentcloud.org/documents/6587265-Shoesshoplifting-Redacted.html), it is the only evidence used to arrest suspects. With these systems being used to authorize arrests, it's vitally important that they aren't biased. They wouldn't be used otherwise, right?\n",
    "\n",
    "We're going to take an in-depth look into how and why facial recognition models can often be biased."
   ]
  },
  {
   "cell_type": "markdown",
   "metadata": {},
   "source": [
    "<h3> 2. Machine Learning Overview <a name=\"ml_overview\"></a></h3>\n",
    "\n",
    "First: let's get an overview of **machine learning**.\n",
    "\n",
    "A couple key terms that will be important:\n",
    "\n",
    "**Labeled data** - This is data from a dataset in which all of the components have been given some metadata label (a value that answers some question). One example would be a dataset of photos where each photo has either the label \"outside\" or \"inside\" (perhaps, in reference to whether the photo was taken inside or outside).\n",
    "\n",
    "**Unlabeled data** - This is data from a dataset where the components are presented with no metadata labels.\n",
    "\n",
    "**Machine Learning** (ML) - An iterative (multi-step) algorithm that learns patterns from data.\n",
    "\n",
    "**Supervised Machine Learning** - Learning patterns by training with a labeled data set. Imagine, for example, a model that learns to predict whether a photo from our earlier dataset was inside or outside. It is much easier to train a model to do this if our data is labeled! That way we can tell it when it has predicted correctly and when it has failed, and it can make updates accordingly.\n",
    "\n",
    "**Unsupervised Machine Learning** - Learning patterns by looking at unlabeled data.\n",
    "\n",
    "From looking at these main components, **why** might bias be such an issue in the world of machine learning?"
   ]
  },
  {
   "cell_type": "markdown",
   "metadata": {},
   "source": [
    "<h3> 3. Back to Facial Recognition / Representing Images in Computers <a name=\"repr_images\"></a></h3>\n",
    "\n",
    "You may be wondering: where does facial recognition fit into all of this?\n",
    "\n",
    "Facial recognition models almost always involve **supervised machine learning**.\n",
    "\n",
    "This means they require labeled datasets. We'll analyze one of those datasets soon, but first: ***how are images represented in computers?***\n",
    "\n",
    "Let's take a look"
   ]
  },
  {
   "cell_type": "code",
   "execution_count": 1,
   "metadata": {},
   "outputs": [
    {
     "data": {
      "text/plain": [
       "<Figure size 432x288 with 0 Axes>"
      ]
     },
     "metadata": {},
     "output_type": "display_data"
    },
    {
     "data": {
      "image/png": "[encoded data removed]",
      "text/plain": [
       "<Figure size 288x288 with 1 Axes>"
      ]
     },
     "metadata": {
      "needs_background": "light"
     },
     "output_type": "display_data"
    }
   ],
   "source": [
    "# Package/Module Imports!\n",
    "# Packages are used to provide extra functionality so that the same algorithms don't have to be coded all the time.\n",
    "# \"import package_name as smth\" just allows shorthand reference for the package later on!\n",
    "\n",
    "import sklearn.datasets         # Sklearn has a lot of statistical and ML functionality, it also has toy datasets\n",
    "import pandas as pd             # This package is often used for storing, managing, and accessing datasets\n",
    "import matplotlib.pyplot as plt # This package is used for plotting graphs, images\n",
    "\n",
    "# Code\n",
    "digits = sklearn.datasets.load_digits(as_frame='true') # Let's import our data (\"as_frame='true'\" tells it to return a pandas-friendly object)\n",
    "plt.gray()                                             # This lets plt know that our images are grayscale.\n",
    "plt.matshow(digits.images[0])                          # Now, let's plot the first image in our dataset\n",
    "plt.show()                                             # and show it here!"
   ]
  },
  {
   "cell_type": "markdown",
   "metadata": {},
   "source": [
    "(The Number 0)\n",
    "\n",
    "Notice how the pixelation and numbering along the axes align - **how might this be represented in a mathematical format?**\n",
    "\n",
    "If you guessed <em> a matrix</em>, you're absolutely correct! Let's print out the matrix form of this image:"
   ]
  },
  {
   "cell_type": "code",
   "execution_count": 4,
   "metadata": {},
   "outputs": [
    {
     "name": "stdout",
     "output_type": "stream",
     "text": [
      "[[ 0.  0.  5. 13.  9.  1.  0.  0.]\n",
      " [ 0.  0. 13. 15. 10. 15.  5.  0.]\n",
      " [ 0.  3. 15.  2.  0. 11.  8.  0.]\n",
      " [ 0.  4. 12.  0.  0.  8.  8.  0.]\n",
      " [ 0.  5.  8.  0.  0.  9.  8.  0.]\n",
      " [ 0.  4. 11.  0.  1. 12.  7.  0.]\n",
      " [ 0.  2. 14.  5. 10. 12.  0.  0.]\n",
      " [ 0.  0.  6. 13. 10.  0.  0.  0.]]\n"
     ]
    }
   ],
   "source": [
    "print(digits.images[0]) # Print out the numerical values that constitute the first image in our dataset."
   ]
  },
  {
   "cell_type": "markdown",
   "metadata": {},
   "source": [
    "Taking the matrix and the image side by side, **what might each of the numbers correspond to?**\n",
    "\n",
    "*note: the value range for each element is 0-15*\n",
    "\n",
    "You may be wondering: **what about color images?**\n",
    "\n",
    "For the purposes of this notebook, don't worry about it. The most important takeaway is that images are stored as matrices where each value represents the color of a certain pixel.\n",
    "\n",
    "For those interested, I've left a short description of color images below."
   ]
  },
  {
   "cell_type": "markdown",
   "metadata": {},
   "source": [
    "> **Optional**\n",
    "> <h4> Color Images in Computers <a name=\"color_images\"></a> </h4>\n",
    ">\n",
    "> Standard color images in computers are represented in a similar format to grayscale images with a couple key exceptions.\n",
    ">\n",
    "> 1. Each pixel's color is represented by 3 different values. (You can imagine this as one matrix where each entry is a set of 3 values, or 3 separate matrices)\n",
    ">    - One value represents the amount of 'red' in the color, another the amount of 'blue', and the third the amount of 'green'   \n",
    ">    \n",
    "> 2. The value range for each of the RGB elements is 0 - 255.\n",
    ">\n",
    "> And for fun, here are the equations to make photos sepia-toned: R = Red, G = Green, B = Blue\n",
    ">\n",
    "> 𝑁𝑒𝑤 𝑅 = 0.393(𝑂𝑙𝑑 𝑅) + 0.769(𝑂𝑙𝑑 𝐺) + 0.189𝑥(𝑂𝑙𝑑 𝐵)\n",
    ">\n",
    "> 𝑁𝑒𝑤 𝐺 = 0.349(𝑂𝑙𝑑 𝑅) + 0.686(𝑂𝑙𝑑 𝐺) + 0.168𝑥(𝑂𝑙𝑑 𝐵)\n",
    ">\n",
    "> 𝑁𝑒𝑤 𝐵 = 0.272(𝑂𝑙𝑑 𝑅) + 0.534(𝑂𝑙𝑑 𝐺) + 0.131𝑥(𝑂𝑙𝑑 𝐵)\n",
    ">\n",
    "> Equations taken from Lab 0 of Emory University CS 350 w/ Dr. Arnold"
   ]
  },
  {
   "cell_type": "markdown",
   "metadata": {},
   "source": [
    "<h2> Analysis <a name=\"Analysis\"></a></h2>\n",
    "\n",
    "<h3> 1. Datasets <a name=\"datasets\"></a></h3>\n",
    "\n",
    "IJB-A (US Government): https://www.nist.gov/itl/iad/image-group/ijb-dataset-request-form\n",
    "\n",
    "- This dataset had to additionally have gender and Fitzpatrick skin type labels added\n",
    "\n",
    "Adience (Eran Eidinger et al.): https://talhassner.github.io/home/projects/Adience/Adience-data.html\n",
    "\n",
    "- This dataset had to additionally have Fitzpatrick skin type labels added\n",
    "\n",
    "Pilot Parliaments Benchmark Dataset (Buolamwini and Gebru): https://www.ajl.org/connect/request-dataset-for-research\n",
    "\n",
    "\n",
    "After augmentation, all datasets had both Fitzpatrick skin type labels and gender labels.\n",
    "\n",
    "**Fitzpatrick Skin Type:** A six-point classification system that labels skin from lighter (I) to darker (VI). As pointed out in the paper, the classification skews toward representing lighter skin, resulting in relatively coarse categorization for other skin types. Though by no means ideal, it serves as a dermatologist-certified starting point for analysis in this field.\n",
    "\n",
    "**Gender Labels:** Gender labeling in this paper and its datasets is considered a binary task. As the authors of the paper point out, this doesn't account for the complexities of gender. Unfortunately, in order to test the accuracy of commercial gender classification systems (which assume two genders/sexes) they must adopt identical labeling practices. "
   ]
  },
  {
   "cell_type": "markdown",
   "metadata": {},
   "source": [
    "<h4> Examining a Dataset <a name=\"examine_dataset\"></a></h4>\n",
    "\n",
    "Now that we're more familiar with datasets and images in computers, let's take an in-depth look at the Adience dataset.\n",
    "\n",
    "This dataset was constructed to test machines' abilities to classify gender based on age. It chose photos to have high variance in \"appearance, pose, lighting condition and image quality\" (Adience Dataset)."
   ]
  },
  {
   "cell_type": "code",
   "execution_count": 2,
   "metadata": {},
   "outputs": [
    {
     "name": "stdout",
     "output_type": "stream",
     "text": [
      "<class 'pandas.core.frame.DataFrame'>\n",
      "RangeIndex: 3210 entries, 0 to 3209\n",
      "Data columns (total 12 columns):\n",
      " #   Column              Non-Null Count  Dtype \n",
      "---  ------              --------------  ----- \n",
      " 0   user_id             3210 non-null   object\n",
      " 1   original_image      3210 non-null   object\n",
      " 2   face_id             3210 non-null   int64 \n",
      " 3   age                 3210 non-null   object\n",
      " 4   gender              3163 non-null   object\n",
      " 5   x                   3210 non-null   int64 \n",
      " 6   y                   3210 non-null   int64 \n",
      " 7   dx                  3210 non-null   int64 \n",
      " 8   dy                  3210 non-null   int64 \n",
      " 9   tilt_ang            3210 non-null   int64 \n",
      " 10  fiducial_yaw_angle  3210 non-null   int64 \n",
      " 11  fiducial_score      3210 non-null   int64 \n",
      "dtypes: int64(8), object(4)\n",
      "memory usage: 301.1+ KB\n",
      "None\n",
      "326\n",
      "{nan, 'u'}\n"
     ]
    }
   ],
   "source": [
    "# First things first, let's read in our meta data (labels).\n",
    "# We specify the delimiter in the function call to let pandas know our file is a tab separated file.\n",
    "meta_data = pd.read_csv(\"aligned/fold_frontal_0_data.txt\", delimiter=\"\\t\")\n",
    "# Notice that we read from a file named 'fold_frontal_0_data.txt' -> we will only be working with frontal photos\n",
    "\n",
    "print(meta_data.info()) # Print some basic information about our data\n",
    "\n",
    "count = 0\n",
    "bad_vals = set()\n",
    "for ind, row in meta_data.iterrows(): # let's iterate through our data entries\n",
    "    if row[\"gender\"] not in [\"m\", \"f\"]: # Check if the gender entry isn't \"m\" or \"f\"\n",
    "        count += 1\n",
    "        bad_vals.add(row[\"gender\"])     # If it isn't \"m\" or \"f\" let's store what it is in a set\n",
    "print(count)\n",
    "print(bad_vals)"
   ]
  },
  {
   "cell_type": "markdown",
   "metadata": {},
   "source": [
    "From the above printout, we can see that there are 3,210 entries in the dataset. Great!\n",
    "\n",
    "But there are only 3,163 entries that have a gender label, which we need. And 326 of the labels are \"u\", presumably for \"unknown\". \n",
    "\n",
    "This problem often surfaces in labeled datasets. Whether it indicates a lack of consensus on deciding the label, or a simple oversight, the best solution is often to just cut the data that isn't complete."
   ]
  },
  {
   "cell_type": "code",
   "execution_count": 3,
   "metadata": {},
   "outputs": [
    {
     "name": "stdout",
     "output_type": "stream",
     "text": [
      "<class 'pandas.core.frame.DataFrame'>\n",
      "Int64Index: 2884 entries, 0 to 3206\n",
      "Data columns (total 12 columns):\n",
      " #   Column              Non-Null Count  Dtype \n",
      "---  ------              --------------  ----- \n",
      " 0   user_id             2884 non-null   object\n",
      " 1   original_image      2884 non-null   object\n",
      " 2   face_id             2884 non-null   int64 \n",
      " 3   age                 2884 non-null   object\n",
      " 4   gender              2884 non-null   object\n",
      " 5   x                   2884 non-null   int64 \n",
      " 6   y                   2884 non-null   int64 \n",
      " 7   dx                  2884 non-null   int64 \n",
      " 8   dy                  2884 non-null   int64 \n",
      " 9   tilt_ang            2884 non-null   int64 \n",
      " 10  fiducial_yaw_angle  2884 non-null   int64 \n",
      " 11  fiducial_score      2884 non-null   int64 \n",
      "dtypes: int64(8), object(4)\n",
      "memory usage: 292.9+ KB\n",
      "None\n"
     ]
    }
   ],
   "source": [
    "clean_meta_data = meta_data.dropna(axis = 0, how = \"any\", subset = [\"gender\"]) # Get rid of entries without a gender entry\n",
    "clean_meta_data = clean_meta_data.loc[clean_meta_data[\"gender\"] != 'u'] # Only keep entries where gender is not \"u\"\n",
    "\n",
    "print(clean_meta_data.info())"
   ]
  },
  {
   "cell_type": "markdown",
   "metadata": {},
   "source": [
    "Perfect, now all entries have complete information.\n",
    "\n",
    "The following code might take up to a minute to run, so get it started while you read over what it's doing."
   ]
  },
  {
   "cell_type": "code",
   "execution_count": 4,
   "metadata": {},
   "outputs": [
    {
     "name": "stdout",
     "output_type": "stream",
     "text": [
      "0 files were not found\n",
      "<class 'pandas.core.frame.DataFrame'>\n",
      "Int64Index: 2884 entries, 0 to 3206\n",
      "Data columns (total 14 columns):\n",
      " #   Column              Non-Null Count  Dtype \n",
      "---  ------              --------------  ----- \n",
      " 0   user_id             2884 non-null   object\n",
      " 1   original_image      2884 non-null   object\n",
      " 2   face_id             2884 non-null   int64 \n",
      " 3   age                 2884 non-null   object\n",
      " 4   gender              2884 non-null   object\n",
      " 5   x                   2884 non-null   int64 \n",
      " 6   y                   2884 non-null   int64 \n",
      " 7   dx                  2884 non-null   int64 \n",
      " 8   dy                  2884 non-null   int64 \n",
      " 9   tilt_ang            2884 non-null   int64 \n",
      " 10  fiducial_yaw_angle  2884 non-null   int64 \n",
      " 11  fiducial_score      2884 non-null   int64 \n",
      " 12  image               2884 non-null   object\n",
      " 13  file_path           2884 non-null   object\n",
      "dtypes: int64(8), object(6)\n",
      "memory usage: 338.0+ KB\n",
      "None\n"
     ]
    }
   ],
   "source": [
    "import os.path\n",
    "bad_count = 0 # let's keep track of images we can't find\n",
    "images = [] # let's store our read-in images\n",
    "file_paths = []\n",
    "for ind, row in clean_meta_data.iterrows():\n",
    "    file_path = \"aligned/{}/landmark_aligned_face.{}.{}\".format(row['user_id'], row['face_id'], row['original_image'])\n",
    "    if not os.path.exists(file_path): # Let's make sure our file exists!\n",
    "        bad_count += 1\n",
    "        continue\n",
    "    image = plt.imread(file_path) # Read in our jpg image\n",
    "    images.append(image)          # Add this image to our list of images\n",
    "    file_paths.append(file_path)\n",
    "data = clean_meta_data.assign(image = images, file_path = file_paths) # Now we're making a new dataframe that also has our images and filepaths\n",
    "print(\"{} files were not found\".format(bad_count)) \n",
    "print(data.info()) # Let's see how it looks now"
   ]
  },
  {
   "cell_type": "markdown",
   "metadata": {},
   "source": [
    "Now let's look at an example image and it's corresponding matrix"
   ]
  },
  {
   "cell_type": "code",
   "execution_count": 8,
   "metadata": {},
   "outputs": [
    {
     "name": "stdout",
     "output_type": "stream",
     "text": [
      "(816, 816, 3)\n",
      "[[[ 85  62  70]\n",
      "  [ 81  58  66]\n",
      "  [ 82  56  65]\n",
      "  ...\n",
      "  [217 184 169]\n",
      "  [217 184 169]\n",
      "  [220 187 172]]\n",
      "\n",
      " [[ 80  57  63]\n",
      "  [ 80  57  63]\n",
      "  [ 82  57  63]\n",
      "  ...\n",
      "  [215 182 167]\n",
      "  [213 180 165]\n",
      "  [214 181 166]]\n",
      "\n",
      " [[ 78  55  61]\n",
      "  [ 80  57  63]\n",
      "  [ 82  59  65]\n",
      "  ...\n",
      "  [215 182 167]\n",
      "  [214 181 166]\n",
      "  [213 180 165]]\n",
      "\n",
      " ...\n",
      "\n",
      " [[ 57  43  42]\n",
      "  [ 54  40  40]\n",
      "  [ 53  39  39]\n",
      "  ...\n",
      "  [162 161 133]\n",
      "  [160 159 131]\n",
      "  [159 158 130]]\n",
      "\n",
      " [[ 56  42  42]\n",
      "  [ 54  40  40]\n",
      "  [ 54  40  40]\n",
      "  ...\n",
      "  [163 162 134]\n",
      "  [162 161 133]\n",
      "  [161 160 132]]\n",
      "\n",
      " [[ 53  39  39]\n",
      "  [ 53  39  39]\n",
      "  [ 54  40  40]\n",
      "  ...\n",
      "  [161 160 132]\n",
      "  [161 160 132]\n",
      "  [162 161 133]]]\n"
     ]
    },
    {
     "data": {
      "text/plain": [
       "<matplotlib.image.AxesImage at 0x7fc103058490>"
      ]
     },
     "execution_count": 8,
     "metadata": {},
     "output_type": "execute_result"
    },
    {
     "data": {
      "image/png": "[encoded data removed]",
      "text/plain": [
       "<Figure size 432x288 with 1 Axes>"
      ]
     },
     "metadata": {
      "needs_background": "light"
     },
     "output_type": "display_data"
    }
   ],
   "source": [
    "print(data['image'][0].shape) # Dimensions of our matrix\n",
    "print(data['image'][0]) # Matrix\n",
    "plt.imshow(data['image'][0]) # Show image"
   ]
  },
  {
   "cell_type": "markdown",
   "metadata": {},
   "source": [
    "This all looks familiar. Now let's measure some characteristics of our dataset.\n",
    "\n",
    "**Gender Ratio**"
   ]
  },
  {
   "cell_type": "code",
   "execution_count": 9,
   "metadata": {},
   "outputs": [
    {
     "name": "stdout",
     "output_type": "stream",
     "text": [
      "1410 images are labeled as female\n",
      "1474 images are labeled as male\n"
     ]
    }
   ],
   "source": [
    "print(\"{} images are labeled as female\".format(data[data.gender == 'f'].shape[0]))\n",
    "print(\"{} images are labeled as male\".format(data[data.gender == 'm'].shape[0]))"
   ]
  },
  {
   "cell_type": "markdown",
   "metadata": {},
   "source": [
    "Relatively balanced for gender, great!\n",
    "\n",
    "**Image Size Variance**"
   ]
  },
  {
   "cell_type": "code",
   "execution_count": 50,
   "metadata": {},
   "outputs": [
    {
     "name": "stdout",
     "output_type": "stream",
     "text": [
      "{(816, 816, 3)}\n"
     ]
    }
   ],
   "source": [
    "c = 0\n",
    "s = set()\n",
    "for ind, row in data.iterrows():\n",
    "    s.add(row['image'].shape)\n",
    "print(s)"
   ]
  },
  {
   "cell_type": "markdown",
   "metadata": {},
   "source": [
    "Looks like all of our images are a uniform size."
   ]
  },
  {
   "cell_type": "markdown",
   "metadata": {},
   "source": [
    "<h3> 2. Models <a name=\"models\"></a></h3>\n",
    "\n",
    "IBM: https://www.ibm.com/products/maximo/remote-monitoring\n",
    "\n",
    "- IBM's facial recognition has since been discontinued.\n",
    "\n",
    "Microsoft: https://azure.microsoft.com/en-us/services/cognitive-services/face/\n",
    "\n",
    "Face++: https://www.faceplusplus.com/\n",
    "\n",
    "Since Microsoft and Face++ both charge for their commercial systems, we'll be recreating the paper's process using a freely available gender classifier called DeepFace, which wraps several state of the art facial attribute analysis models (including one from Google and one from FaceBook). \n",
    "\n",
    "For an example of how it looks in code, let's try it out on our example image:"
   ]
  },
  {
   "cell_type": "code",
   "execution_count": 16,
   "metadata": {},
   "outputs": [
    {
     "name": "stdout",
     "output_type": "stream",
     "text": [
      "Man\n"
     ]
    }
   ],
   "source": [
    "from deepface import DeepFace\n",
    "obj = DeepFace.analyze(img_path = data['file_path'][0], actions = ['gender'])\n",
    "print(obj[\"gender\"])"
   ]
  },
  {
   "cell_type": "markdown",
   "metadata": {},
   "source": [
    "<h3> 3. Experiments <a name=\"experiments\"></a></h3>"
   ]
  },
  {
   "cell_type": "markdown",
   "metadata": {},
   "source": [
    "<h4> Experiment 1 - Overall Gender Classification<a name=\"experiment_1\"></a></h4>\n",
    "\n",
    "For our first experiment, let's examine how closely our overall gender classification results align with the model's claim of \"97.44% accuracy, 96.29% precision and 95.05% recall\". We'll talk about what accuracy, precision, and recall represent at the end of this experiment, so don't worry about those definitions for now.\n",
    "\n",
    "Since we have a list of \"true\" gender labels, all we have to do is generate gender predictions for all photos and then compare the two lists of labels.\n",
    "\n",
    "The model predictions take some time, so we'll be working with just 25 images for now, but we will later use pre-computed predictions to complete our analysis.\n",
    "\n",
    "**This may take up to a minute **"
   ]
  },
  {
   "cell_type": "code",
   "execution_count": 17,
   "metadata": {},
   "outputs": [],
   "source": [
    "predictions_1 = []\n",
    "count = 0\n",
    "num = 25 # number of images to test on\n",
    "for ind, row in data.iterrows():\n",
    "    count += 1\n",
    "    obj = DeepFace.analyze(img_path=row['file_path'], actions=['gender'], enforce_detection=False)\n",
    "    if obj[\"gender\"] == \"Man\":\n",
    "        predictions_1.append(\"m\")\n",
    "    elif obj[\"gender\"] == \"Woman\":\n",
    "        predictions_1.append(\"f\")\n",
    "    else:\n",
    "        print(\"Unexpected prediction {}\".format(obj[\"gender\"])) # Just in case!\n",
    "        predictions_1.append(\"NaN\")\n",
    "    if count == num:\n",
    "        break"
   ]
  },
  {
   "cell_type": "code",
   "execution_count": 18,
   "metadata": {},
   "outputs": [
    {
     "name": "stdout",
     "output_type": "stream",
     "text": [
      "Accuracy is 84.0%\n"
     ]
    }
   ],
   "source": [
    "import sklearn.metrics\n",
    "# Un-comment these next two lines if you'd like to see what our model or the dataset labels are\n",
    "# print(predictions) # Our predictions\n",
    "# print(data['gender'][0:num]) # The dataset's labels\n",
    "correct_count = 0\n",
    "for ind in range(num):\n",
    "    if predictions_1[ind] == data['gender'][ind]: # Did this prediction match up?\n",
    "        correct_count += 1\n",
    "print(\"Accuracy is {}%\".format(round(100 * (correct_count / num), 2)))"
   ]
  },
  {
   "cell_type": "markdown",
   "metadata": {},
   "source": [
    "84.0% accuracy. Not bad. It's not quite what the model advertises, but this is a challenging dataset, so it is expected that it would perform worse.\n",
    "\n",
    "Let's see if that performance holds for classification of men and women individually.\n",
    "\n",
    "<h4> Experiment 2 - Gender Classification Performance Broken Down by Gender<a name=\"experiment_2\"></a></h4>\n",
    "\n",
    "For a more detailed analysis, we can now examine what is known as a ***Confusion Matrix***, a matrix representation of where the model succeeded/failed for both labels."
   ]
  },
  {
   "cell_type": "code",
   "execution_count": 19,
   "metadata": {},
   "outputs": [
    {
     "name": "stdout",
     "output_type": "stream",
     "text": [
      "[[ 2  4]\n",
      " [ 0 19]]\n"
     ]
    }
   ],
   "source": [
    "conf_mat = sklearn.metrics.confusion_matrix(data['gender'][0:num], predictions_1, labels = [\"f\", \"m\"]) # pass in the dataset labels and our predicted labels\n",
    "print(conf_mat) # Print our confusion matrix"
   ]
  },
  {
   "cell_type": "markdown",
   "metadata": {},
   "source": [
    "But what do these numbers mean?\n",
    "\n",
    "Before we analyze this confusion matrix, we have to take a look at its components and understand what they tell us."
   ]
  },
  {
   "cell_type": "markdown",
   "metadata": {},
   "source": [
    "> <h4> Confusion Matrices and their connection to Accuracy, Precision, Recall, and False Positivity Rate <a name=\"apr\"></a></h4>\n",
    ">\n",
    "> **A Confusion Matrix's Components:**\n",
    ">\n",
    "> ***True Positive*** (TP) - Guessed it was x and it was x\n",
    ">\n",
    "> ***True Negative*** (TN) - Guessed it was y and it was y\n",
    ">\n",
    "> ***False Positive*** (FP) - Guessed it was x but it was actually y\n",
    ">\n",
    "> ***False Negative*** (FN) - Guessed it was y but it was actually x\n",
    ">\n",
    "> The four values in the confusion matrix represent these four categories. It's important to note that \"x\" and \"y\" can take on many different types of values. For example \"f\" and \"m\" in our situation, or \"positive\" and \"negative\" when testing for the presence of a disease.\n",
    ">\n",
    "> In our above confusion matrix, TP is top-left, TN is bottom-right, FP is bottom-left, FN is top-right.\n",
    ">\n",
    ">| Confusion Matrix | Pred F     | Pred M     |\n",
    ">| :------------- | :---------- | ----------- |\n",
    ">|  True F | TP = 2 | FN = 4 |\n",
    ">| True M | FP = 0 | TN = 19 |\n",
    ">\n",
    "> So our model correctly predicted that 2 women were women, incorrectly labeled 4 women as men, and correctly predicted 19 men as men. (according to dataset labels)\n",
    ">\n",
    "> **But how do these translate to accuracy, precision, recall, and false positivity rate?**\n",
    ">\n",
    "> Accuracy = (TP + TN) / (TP + FP + FN + TN) (How often is my model correct?)\n",
    ">\n",
    "> Precision = TP / (TP + FP) (If my model guesses 'positive', how often is the answer actually 'positive'?) Also known as PPV, Positive Predictive Value\n",
    ">\n",
    "> Recall = TP / (TP + FN) (Out of all of the 'positive' labeled examples, how often does my model guess 'positive'?) Also known as TPR, True Positive Rate\n",
    ">\n",
    "> False Positve Rate = FN / (TP + FN) (Out of all true 'positive' labeled examples, how many does the model get correct.) This metric is especially important for our analysis.\n",
    ">\n",
    "> Note that precision, recall, and FPR in their current formulations only tell you about the 'positive' label."
   ]
  },
  {
   "cell_type": "markdown",
   "metadata": {},
   "source": [
    "With these definitions, we can calculate accuracy, precision, and recall using the four values from the confusion matrix."
   ]
  },
  {
   "cell_type": "code",
   "execution_count": 23,
   "metadata": {},
   "outputs": [
    {
     "name": "stdout",
     "output_type": "stream",
     "text": [
      "TN = 1378, FP = 96, FN = 791, TP = 619\n",
      "Female Precision: 86.57%\n",
      "Female Recall: 43.9%\n",
      "Female False Positive Rate 56.1%\n",
      "Male Precision: 63.53%\n",
      "Male Recall: 93.49%\n",
      "Male False Positive Rate 6.51%\n"
     ]
    }
   ],
   "source": [
    "tp, fn, fp, tn = conf_mat.ravel()\n",
    "print(\"TN = {}, FP = {}, FN = {}, TP = {}\".format(tn,fp,fn,tp))\n",
    "accuracy = (tp + tn) / (tn + tp + fn + fp)\n",
    "f_precision = (tp) / (tp + fp)\n",
    "f_recall = (tp) / (tp + fn)\n",
    "f_fpr = (fn) / (fn + tp)\n",
    "# Swapping formulas now\n",
    "m_fpr = (fp) / (fp + tn)\n",
    "m_recall = (tn) / (tn + fp)\n",
    "m_precision = (tn) / (tn + fn)\n",
    "print(\"Female Precision: {}%\".format(round(100 * f_precision, 2)))\n",
    "print(\"Female Recall: {}%\".format(round(100 * f_recall, 2)))\n",
    "print(\"Female False Positive Rate {}%\".format(round(100 * f_fpr,2)))\n",
    "print(\"Male Precision: {}%\".format(round(100 * m_precision,2)))\n",
    "print(\"Male Recall: {}%\".format(round(100 * m_recall,2)))\n",
    "print(\"Male False Positive Rate {}%\".format(round(100 * m_fpr,2)))"
   ]
  },
  {
   "cell_type": "markdown",
   "metadata": {},
   "source": [
    "<h4> Experiment 3 - All Data Analysis <a name=\"experiment_3\"></a></h4>\n",
    "Now that we've done this for a small subset of images, let's run the same analysis on all of the model's predictions, using pre-computed predictions."
   ]
  },
  {
   "cell_type": "code",
   "execution_count": 21,
   "metadata": {},
   "outputs": [
    {
     "name": "stdout",
     "output_type": "stream",
     "text": [
      "[[ 619  791]\n",
      " [  96 1378]]\n",
      "sklearn Calculations: TN = 1378, FP = 96, FN = 791, TP = 619\n",
      "Our Calculations: TN = 1378, FP = 96, FN = 791, TP = 619\n",
      "Accuracy: 69.24%\n",
      "Female Precision: 86.57%\n",
      "Female Recall: 43.9%\n",
      "Female False Positive Rate 56.1%\n",
      "Male Precision: 63.53%\n",
      "Male Recall: 93.49%\n",
      "Male False Positive Rate 6.51%\n"
     ]
    }
   ],
   "source": [
    "import pickle as p\n",
    "import sklearn.metrics\n",
    "predictions = p.load(open(\"predictions.p\", \"rb\"))\n",
    "num = len(predictions)\n",
    "\n",
    "# Accuracy Computation\n",
    "\n",
    "# Confusion Matrix\n",
    "conf_mat = sklearn.metrics.confusion_matrix(data['gender'][0:num], predictions, labels = [\"f\", \"m\"]) # pass in the dataset labels and our predicted labels\n",
    "print(conf_mat) # Print our confusion matrix\n",
    "\n",
    "\n",
    "\n",
    "# Accuracy, Precision, Recall Breakdown per Gender\n",
    "tp, fn, fp, tn = conf_mat.ravel()\n",
    "\n",
    "# Before calculating our metrics, let's calculate tp, tn, fp, and fn by ourselves for a quick sanity check\n",
    "o_tp = 0\n",
    "o_tn = 0\n",
    "o_fp = 0\n",
    "o_fn = 0\n",
    "for ind, truth in enumerate(data['gender']):\n",
    "    pred = predictions[ind]\n",
    "    if truth == \"f\":\n",
    "        if pred == truth:\n",
    "            o_tp += 1 # If the truth was f and we guessed f, then this is true positive\n",
    "        else:\n",
    "            o_fn += 1 # If truth was f and we guessed m, then this is false negative\n",
    "    else:\n",
    "        if pred == truth:\n",
    "            o_tn += 1 # If truth was m and we guessed m, then this is true negative\n",
    "        else:\n",
    "            o_fp += 1 # If truth was m and we guessed f, then this is false positive\n",
    "            \n",
    "\n",
    "print(\"sklearn Calculations: TN = {}, FP = {}, FN = {}, TP = {}\".format(tn,fp,fn,tp))\n",
    "print(\"Our Calculations: TN = {}, FP = {}, FN = {}, TP = {}\".format(o_tn,o_fp,o_fn,o_tp))\n",
    "accuracy = (tp + tn) / (tn + tp + fn + fp)\n",
    "f_precision = (tp) / (tp + fp)\n",
    "f_recall = (tp) / (tp + fn)\n",
    "f_fpr = (fn) / (fn + tp)\n",
    "# Swapping formulas now\n",
    "m_fpr = (fp) / (fp + tn)\n",
    "m_recall = (tn) / (tn + fp)\n",
    "m_precision = (tn) / (tn + fn)\n",
    "\n",
    "print(\"Accuracy: {}%\".format(round(100 * accuracy,2)))\n",
    "print(\"Female Precision: {}%\".format(round(100 * f_precision, 2)))\n",
    "print(\"Female Recall: {}%\".format(round(100 * f_recall, 2)))\n",
    "print(\"Female False Positive Rate {}%\".format(round(100 * f_fpr,2)))\n",
    "print(\"Male Precision: {}%\".format(round(100 * m_precision,2)))\n",
    "print(\"Male Recall: {}%\".format(round(100 * m_recall,2)))\n",
    "print(\"Male False Positive Rate {}%\".format(round(100 * m_fpr,2)))"
   ]
  },
  {
   "cell_type": "markdown",
   "metadata": {},
   "source": [
    "<h2> Evaluation <a name=\"Evaluation\"></a> </h2>"
   ]
  },
  {
   "cell_type": "markdown",
   "metadata": {},
   "source": [
    "The overall performance of the model was relatively poor. However, our concern is unrelated to overall model perfomance. We're interested in knowing how it did with relation to each gender.\n",
    "\n",
    "As we can see, of the 1410 images labeled female in the dataset, 791 were predicted male incorrectly. Of the 1474 images labeled male, only 96 were labeled incorrectly.\n",
    "\n",
    "| Confusion Matrix | Pred F     | Pred M     |\n",
    "| :------------- | :---------- | ----------- |\n",
    "|  True F | 619   | 791 |\n",
    "| True M | 96 | 1378 |\n",
    "\n",
    "\n",
    "This discrepancy becomes pretty clear when we look at the two labels' false positive rates. Female False Positive Rate was 56.1%, whereas Male False Positive Rate was just 6.51%\n",
    "\n",
    "That means that our model is roughly 8.5 times more likely to correctly align with the dataset values for images labeled male than for images labeled female.\n",
    "\n",
    "As well, the model's recall for females was 43.9% vs 93.49% for males. While precision was higher for females than for males, this was only because the model never mistook any males for females, only mistook females for males.\n",
    "\n",
    "Joy Buolamwini and Timnit Gebru found much to the same effect in their analysis of the three commercial gender classifiers with the additional dimension of skin-tone. They found that models performed worse on females than on males, models performed worse on darker skin, and models especially performed poorly on females with dark skin."
   ]
  },
  {
   "cell_type": "markdown",
   "metadata": {},
   "source": [
    "<h2> Conclusion <a name=\"Conclusion\"></a> </h2>"
   ]
  },
  {
   "cell_type": "markdown",
   "metadata": {},
   "source": [
    "Facial Recognition and Analysis, AI at large, have a long way to go.\n",
    "\n",
    "Overall model performance can disguise underlying biases. Models should be holistically analyzed, with reference to different intersections of identity when relevant.\n",
    "\n",
    "Model performance can vary wildly across datasets. "
   ]
  },
  {
   "cell_type": "markdown",
   "metadata": {},
   "source": [
    "<h2> Sources: <a name=\"Sources\"></a></h2>\n",
    "\n",
    "https://en.wikipedia.org/wiki/Facial_recognition_system#History_of_facial_recognition_technology (Introduction Material)\n",
    "\n",
    "https://www.nist.gov/system/files/documents/2019/09/11/nistir_8271_20190911.pdf (FACES government analysis)\n",
    "\n",
    "[E. Eidinger, R. Enbar, and T. Hassner, Age and Gender Estimation of Unfiltered Faces, submitted to the Transactions on Information Forensics and Security, special issue on Face Recognition in the Wild ] (Adience Dataset)\n",
    "\n",
    "Serengil, S., & Ozpinar, A. (2020). LightFace: A Hybrid Deep Face Recognition Framework. In 2020 Innovations in Intelligent Systems and Applications Conference (ASYU) (pp. 23-27). https://github.com/serengil/deepface (Our facial analysis model)"
   ]
  },
  {
   "cell_type": "code",
   "execution_count": null,
   "metadata": {},
   "outputs": [],
   "source": []
  }
 ],
 "metadata": {
  "kernelspec": {
   "display_name": "Python 3",
   "language": "python",
   "name": "python3"
  },
  "language_info": {
   "codemirror_mode": {
    "name": "ipython",
    "version": 3
   },
   "file_extension": ".py",
   "mimetype": "text/x-python",
   "name": "python",
   "nbconvert_exporter": "python",
   "pygments_lexer": "ipython3",
   "version": "3.8.3"
  }
 },
 "nbformat": 4,
 "nbformat_minor": 4
}
